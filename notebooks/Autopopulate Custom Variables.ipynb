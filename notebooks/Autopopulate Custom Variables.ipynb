{
 "cells": [
  {
   "cell_type": "markdown",
   "metadata": {},
   "source": [
    "This is draft code for uploading spreadsheet data on subjects into custom fields in XNAT.\n",
    "\n",
    "The code will set up your XNAT connection and then prompt you to select the csv file.\n",
    "\n",
    "To Do: create custom fields based on column headers, insert into existing fields for subjectData (gender, etc..), get mset working to speed up process (currently nested for loops)?\n",
    "\n",
    "Date, Comments/Edits, Author\n",
    "08-29-17, Initial draft, JH"
   ]
  },
  {
   "cell_type": "code",
   "execution_count": null,
   "metadata": {
    "collapsed": true
   },
   "outputs": [],
   "source": [
    "#clear\n",
    "%reset"
   ]
  },
  {
   "cell_type": "code",
   "execution_count": 48,
   "metadata": {
    "collapsed": true
   },
   "outputs": [],
   "source": [
    "#import libraries\n",
    "\n",
    "import pyxnat\n",
    "from pyxnat import Interface\n",
    "\n",
    "import os\n",
    "from os import listdir\n",
    "from os.path import isfile, join\n",
    "\n",
    "from  Tkinter import *\n",
    "import Tkinter, Tkconstants, tkFileDialog\n",
    "\n",
    "import pandas as pd\n"
   ]
  },
  {
   "cell_type": "code",
   "execution_count": 49,
   "metadata": {},
   "outputs": [
    {
     "name": "stdout",
     "output_type": "stream",
     "text": [
      "User: jhsu3\n",
      "········\n",
      "Connection successful, available projects are: \n",
      "['TMS_DEPRESSION', 'GrafmanLesion', 'Test', 'DBS', 'Corbetta', 'Aging', 'DIABETES']\n"
     ]
    }
   ],
   "source": [
    "#setup xnat connection\n",
    "\n",
    "connectSuccess = False\n",
    "\n",
    "while not connectSuccess:\n",
    "    xnat = Interface(server='http://xnat.bidmc.harvard.edu:8080', cachedir='/tmp')\n",
    "    listProjects = xnat.select.projects().get()\n",
    "    \n",
    "    if not listProjects:\n",
    "        \n",
    "        print 'Connection unsuccessful, try again.'\n",
    "        \n",
    "    else:\n",
    "        \n",
    "        print 'Connection successful, available projects are: '\n",
    "        print listProjects\n",
    "        connectSuccess = True\n"
   ]
  },
  {
   "cell_type": "code",
   "execution_count": 93,
   "metadata": {},
   "outputs": [
    {
     "name": "stdout",
     "output_type": "stream",
     "text": [
      "Select project: MGH_Lesions\n",
      "Project exists and selected.\n"
     ]
    }
   ],
   "source": [
    "#select or create new project\n",
    "\n",
    "exitProjSelect = False\n",
    "\n",
    "#keep prompting user for project selection\n",
    "while not exitProjSelect:\n",
    "    \n",
    "    #enter project name\n",
    "    projectName = raw_input('Select project: ')\n",
    "    projectObj = xnat.select.project(projectName)\n",
    "    \n",
    "    #if project entered doesn't exist, ask if want to create\n",
    "    if not projectObj.exists():\n",
    "    \n",
    "        print 'Project does not exist.'\n",
    "        createProj = raw_input('Create new project? (y/n/anything else to exit) ')\n",
    "    \n",
    "        #create new project\n",
    "        if createProj == 'y':\n",
    "            \n",
    "            projectObj.create()\n",
    "            exitProjSelect = True\n",
    "            print 'Created new project.'\n",
    "        \n",
    "        #go back to project selection if no\n",
    "        elif createProj == 'n':\n",
    "\n",
    "            print 'Try again.\\n'\n",
    "        \n",
    "        #exit project selection\n",
    "        else:\n",
    "            \n",
    "            exitProjSelect = True\n",
    "            print 'Exiting selection.'\n",
    "    \n",
    "    #project exists\n",
    "    else:\n",
    "        \n",
    "        exitProjSelect = True\n",
    "        print 'Project exists and selected.'\n",
    "        \n",
    "\n"
   ]
  },
  {
   "cell_type": "code",
   "execution_count": 134,
   "metadata": {},
   "outputs": [
    {
     "name": "stdout",
     "output_type": "stream",
     "text": [
      "Select csv file with custom variables.\n",
      "Here are the first two rows of the csv file: \n",
      "\n"
     ]
    },
    {
     "data": {
      "text/html": [
       "<div>\n",
       "<style>\n",
       "    .dataframe thead tr:only-child th {\n",
       "        text-align: right;\n",
       "    }\n",
       "\n",
       "    .dataframe thead th {\n",
       "        text-align: left;\n",
       "    }\n",
       "\n",
       "    .dataframe tbody tr th {\n",
       "        vertical-align: top;\n",
       "    }\n",
       "</style>\n",
       "<table border=\"1\" class=\"dataframe\">\n",
       "  <thead>\n",
       "    <tr style=\"text-align: right;\">\n",
       "      <th></th>\n",
       "      <th>Filename</th>\n",
       "      <th>mrs</th>\n",
       "      <th>nihss</th>\n",
       "    </tr>\n",
       "  </thead>\n",
       "  <tbody>\n",
       "    <tr>\n",
       "      <th>0</th>\n",
       "      <td>subject001</td>\n",
       "      <td>2</td>\n",
       "      <td>3</td>\n",
       "    </tr>\n",
       "    <tr>\n",
       "      <th>1</th>\n",
       "      <td>subject002</td>\n",
       "      <td>2</td>\n",
       "      <td>3</td>\n",
       "    </tr>\n",
       "  </tbody>\n",
       "</table>\n",
       "</div>"
      ],
      "text/plain": [
       "     Filename  mrs  nihss\n",
       "0  subject001    2      3\n",
       "1  subject002    2      3"
      ]
     },
     "execution_count": 134,
     "metadata": {},
     "output_type": "execute_result"
    }
   ],
   "source": [
    "#select csv file with data for custom variables\n",
    "\n",
    "#bring up GUI to select directory\n",
    "print('Select csv file with custom variables.')\n",
    "\n",
    "root = Tk()\n",
    "root.update()\n",
    "\n",
    "csvFilePath = tkFileDialog.askopenfilename(initialdir = \"/\",title = \"Select file\",filetypes = ((\"csv files\",\"*.csv\"),(\"all files\",\"*.*\")))\n",
    "\n",
    "root.destroy()\n",
    "\n",
    "df = pd.read_csv(csvFilePath)\n",
    "print('Here are the first two rows of the csv file: \\n')\n",
    "df.loc[0:1,:]"
   ]
  },
  {
   "cell_type": "code",
   "execution_count": 130,
   "metadata": {},
   "outputs": [
    {
     "name": "stdout",
     "output_type": "stream",
     "text": [
      "What is the index of the column containing subject IDs? 0\n",
      "Here is an example: subject001\n",
      "Indicate the indices for the subject ID.\n",
      "First index: 7\n",
      "Second index: 10\n",
      "Here is what you selected: 001\n",
      "Is this correct? (y/n/anything else to exit): y\n"
     ]
    }
   ],
   "source": [
    "ID_column = input('What is the index of the column containing subject IDs? ')\n",
    "\n",
    "print('Here is an example: ' + df.iloc[0,ID_column])\n",
    "\n",
    "exitSubjNumSelect = False \n",
    "print('Indicate the indices for the subject ID.')\n",
    "\n",
    "while not exitSubjNumSelect:\n",
    "\n",
    "    firstInd = input('First index: ')\n",
    "    secondInd = input('Second index: ')\n",
    "\n",
    "    if secondInd <= firstInd:\n",
    "\n",
    "        print 'Error, second index must be larger than first. Try again.\\n'\n",
    "\n",
    "    else:\n",
    "\n",
    "        print('Here is what you selected: ' + df.iloc[0,ID_column][firstInd:secondInd])\n",
    "        subjNumCorrect = raw_input('Is this correct? (y/n/anything else to exit): ')\n",
    "\n",
    "        if subjNumCorrect == 'y':\n",
    "\n",
    "            exitSubjNumSelect = True\n",
    "\n",
    "        elif subjNumCorrect == 'n':\n",
    "\n",
    "            print 'Try again\\n'\n",
    "\n",
    "        else:\n",
    "\n",
    "            exitSubjNumSelect = True"
   ]
  },
  {
   "cell_type": "code",
   "execution_count": 136,
   "metadata": {},
   "outputs": [
    {
     "name": "stdout",
     "output_type": "stream",
     "text": [
      "Uploading data for field: mrs\n",
      "<Subject Object> 001\n",
      "2\n"
     ]
    },
    {
     "ename": "AttributeError",
     "evalue": "'numpy.int64' object has no attribute 'rstrip'",
     "output_type": "error",
     "traceback": [
      "\u001b[1;31m\u001b[0m",
      "\u001b[1;31mAttributeError\u001b[0mTraceback (most recent call last)",
      "\u001b[1;32m<ipython-input-136-bc43ad43d3b5>\u001b[0m in \u001b[0;36m<module>\u001b[1;34m()\u001b[0m\n\u001b[0;32m     24\u001b[0m             \u001b[1;32mprint\u001b[0m \u001b[0mdf\u001b[0m\u001b[1;33m.\u001b[0m\u001b[0miloc\u001b[0m\u001b[1;33m[\u001b[0m\u001b[0mi\u001b[0m\u001b[1;33m,\u001b[0m\u001b[0mj\u001b[0m\u001b[1;33m]\u001b[0m\u001b[1;33m\u001b[0m\u001b[0m\n\u001b[0;32m     25\u001b[0m \u001b[1;33m\u001b[0m\u001b[0m\n\u001b[1;32m---> 26\u001b[1;33m             \u001b[0msubjectObj\u001b[0m\u001b[1;33m.\u001b[0m\u001b[0mattrs\u001b[0m\u001b[1;33m.\u001b[0m\u001b[0mset\u001b[0m\u001b[1;33m(\u001b[0m\u001b[0mfieldPath\u001b[0m\u001b[1;33m,\u001b[0m\u001b[0mdf\u001b[0m\u001b[1;33m.\u001b[0m\u001b[0miloc\u001b[0m\u001b[1;33m[\u001b[0m\u001b[0mi\u001b[0m\u001b[1;33m,\u001b[0m\u001b[0mj\u001b[0m\u001b[1;33m]\u001b[0m\u001b[1;33m)\u001b[0m\u001b[1;33m\u001b[0m\u001b[0m\n\u001b[0m\u001b[0;32m     27\u001b[0m             \u001b[0msubjectObj\u001b[0m\u001b[1;33m.\u001b[0m\u001b[0mcreate\u001b[0m\u001b[1;33m(\u001b[0m\u001b[1;33m)\u001b[0m\u001b[1;33m\u001b[0m\u001b[0m\n\u001b[0;32m     28\u001b[0m \u001b[1;33m\u001b[0m\u001b[0m\n",
      "\u001b[1;32mC:\\Users\\jhsu3\\AppData\\Local\\Continuum\\Anaconda2\\lib\\site-packages\\pyxnat\\core\\attributes.pyc\u001b[0m in \u001b[0;36mset\u001b[1;34m(self, path, value)\u001b[0m\n\u001b[0;32m     78\u001b[0m         put_uri = self._eobj._uri + '?xsiType=%s&%s=%s' % (urllib.quote(self._get_datatype())\n\u001b[0;32m     79\u001b[0m                                                          \u001b[1;33m,\u001b[0m \u001b[0murllib\u001b[0m\u001b[1;33m.\u001b[0m\u001b[0mquote\u001b[0m\u001b[1;33m(\u001b[0m\u001b[0mpath\u001b[0m\u001b[1;33m)\u001b[0m\u001b[1;33m\u001b[0m\u001b[0m\n\u001b[1;32m---> 80\u001b[1;33m                                                          \u001b[1;33m,\u001b[0m \u001b[0murllib\u001b[0m\u001b[1;33m.\u001b[0m\u001b[0mquote\u001b[0m\u001b[1;33m(\u001b[0m\u001b[0mvalue\u001b[0m\u001b[1;33m)\u001b[0m\u001b[1;33m\u001b[0m\u001b[0m\n\u001b[0m\u001b[0;32m     81\u001b[0m                                               )\n\u001b[0;32m     82\u001b[0m \u001b[1;33m\u001b[0m\u001b[0m\n",
      "\u001b[1;32mC:\\Users\\jhsu3\\AppData\\Local\\Continuum\\Anaconda2\\lib\\urllib.pyc\u001b[0m in \u001b[0;36mquote\u001b[1;34m(s, safe)\u001b[0m\n\u001b[0;32m   1295\u001b[0m         \u001b[0msafe\u001b[0m \u001b[1;33m=\u001b[0m \u001b[0malways_safe\u001b[0m \u001b[1;33m+\u001b[0m \u001b[0msafe\u001b[0m\u001b[1;33m\u001b[0m\u001b[0m\n\u001b[0;32m   1296\u001b[0m         \u001b[0m_safe_quoters\u001b[0m\u001b[1;33m[\u001b[0m\u001b[0mcachekey\u001b[0m\u001b[1;33m]\u001b[0m \u001b[1;33m=\u001b[0m \u001b[1;33m(\u001b[0m\u001b[0mquoter\u001b[0m\u001b[1;33m,\u001b[0m \u001b[0msafe\u001b[0m\u001b[1;33m)\u001b[0m\u001b[1;33m\u001b[0m\u001b[0m\n\u001b[1;32m-> 1297\u001b[1;33m     \u001b[1;32mif\u001b[0m \u001b[1;32mnot\u001b[0m \u001b[0ms\u001b[0m\u001b[1;33m.\u001b[0m\u001b[0mrstrip\u001b[0m\u001b[1;33m(\u001b[0m\u001b[0msafe\u001b[0m\u001b[1;33m)\u001b[0m\u001b[1;33m:\u001b[0m\u001b[1;33m\u001b[0m\u001b[0m\n\u001b[0m\u001b[0;32m   1298\u001b[0m         \u001b[1;32mreturn\u001b[0m \u001b[0ms\u001b[0m\u001b[1;33m\u001b[0m\u001b[0m\n\u001b[0;32m   1299\u001b[0m     \u001b[1;32mreturn\u001b[0m \u001b[1;34m''\u001b[0m\u001b[1;33m.\u001b[0m\u001b[0mjoin\u001b[0m\u001b[1;33m(\u001b[0m\u001b[0mmap\u001b[0m\u001b[1;33m(\u001b[0m\u001b[0mquoter\u001b[0m\u001b[1;33m,\u001b[0m \u001b[0ms\u001b[0m\u001b[1;33m)\u001b[0m\u001b[1;33m)\u001b[0m\u001b[1;33m\u001b[0m\u001b[0m\n",
      "\u001b[1;31mAttributeError\u001b[0m: 'numpy.int64' object has no attribute 'rstrip'"
     ]
    }
   ],
   "source": [
    "for j in range(0,len(df.columns)):\n",
    "    \n",
    "#     print j\n",
    "    \n",
    "    if j == ID_column:\n",
    "        \n",
    "        continue\n",
    "    \n",
    "    else:\n",
    "        \n",
    "        fieldName = df.columns[j]\n",
    "        fieldPath = \"xnat:subjectData/fields/field[name='%s']/field\" %fieldName.lower()\n",
    "        \n",
    "        print 'Uploading data for field: ' + fieldName\n",
    "#         print fieldPath\n",
    "        for i in range(0,len(df.iloc[:,0])):\n",
    "            \n",
    "#             print i\n",
    "\n",
    "            subjectID = df.iloc[i,ID_column][firstInd:secondInd]\n",
    "            subjectObj = projectObj.subject(subjectID)\n",
    "            \n",
    "            print subjectObj\n",
    "            print df.iloc[i,j]\n",
    "            \n",
    "            subjectObj.attrs.set(fieldPath,df.iloc[i,j]) \n",
    "            subjectObj.create()\n",
    "            "
   ]
  },
  {
   "cell_type": "code",
   "execution_count": null,
   "metadata": {
    "collapsed": true
   },
   "outputs": [],
   "source": []
  }
 ],
 "metadata": {
  "kernelspec": {
   "display_name": "Python 2",
   "language": "python",
   "name": "python2"
  },
  "language_info": {
   "codemirror_mode": {
    "name": "ipython",
    "version": 2
   },
   "file_extension": ".py",
   "mimetype": "text/x-python",
   "name": "python",
   "nbconvert_exporter": "python",
   "pygments_lexer": "ipython2",
   "version": "2.7.13"
  }
 },
 "nbformat": 4,
 "nbformat_minor": 2
}
