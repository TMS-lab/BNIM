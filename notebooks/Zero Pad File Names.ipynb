{
 "cells": [
  {
   "cell_type": "markdown",
   "metadata": {},
   "source": [
    "This is draft code for renaming files of a dataset to get the same length for the subject number in order to meet the expectations of the upload script.\n",
    "\n",
    "Example dataset: subject1.nii.gz,..., subject10.nii.gz\n",
    "After running script: subject01.nii.gz,..., subject10.nii.gz\n",
    "\n",
    "Code will prompt you to select folder of data and enter desired length for subject number.\n",
    "\n",
    "TO DO: \n",
    "\n",
    "Date, Comments/Edits, Author\n",
    "08-29-17, Initial draft, JH"
   ]
  },
  {
   "cell_type": "code",
   "execution_count": 1,
   "metadata": {
    "collapsed": true
   },
   "outputs": [],
   "source": [
    "import os\n",
    "from os import listdir\n",
    "from os.path import isfile, join\n",
    "\n",
    "from  Tkinter import *\n",
    "import Tkinter, Tkconstants, tkFileDialog"
   ]
  },
  {
   "cell_type": "code",
   "execution_count": 18,
   "metadata": {},
   "outputs": [
    {
     "name": "stdout",
     "output_type": "stream",
     "text": [
      "Select folder containing lesions.\n",
      "Selected path is C:/Users/jhsu3/Documents/Lesion Datasets/Juho/hemichorea_results/compressed\n"
     ]
    }
   ],
   "source": [
    "#select folder with data to upload\n",
    "\n",
    "#bring up GUI to select directory\n",
    "print('Select folder containing lesions.')\n",
    "root = Tk()\n",
    "root.update()\n",
    "fldrPath = tkFileDialog.askdirectory()\n",
    "print ('Selected path is ' + fldrPath)\n",
    "root.destroy()"
   ]
  },
  {
   "cell_type": "code",
   "execution_count": 19,
   "metadata": {},
   "outputs": [
    {
     "name": "stdout",
     "output_type": "stream",
     "text": [
      "Here is an example of a filename in the folder Hemichorea_10.nii_func_seed_T.nii.gz\n",
      "Is this example good? (y/n/anything else to exit) y\n",
      "\n",
      "Example works, indicate where subject number is in filename.\n",
      "Index of beginning of subject number: 11\n",
      "String following subject number: .nii\n",
      "Here is what you selected: 10\n",
      "Is this correct? (y/n/anything else to exit): y\n"
     ]
    }
   ],
   "source": [
    "\n",
    "onlyFiles = [f for f in listdir(fldrPath) if isfile(join(fldrPath, f))]\n",
    "numFiles = len(onlyFiles)\n",
    "# print onlyFiles\n",
    "\n",
    "for i in range(0,numFiles-1):\n",
    "\n",
    "\n",
    "    if onlyFiles[i].endswith('.nii.gz'):\n",
    "\n",
    "        print('Here is an example of a filename in the folder ' + onlyFiles[i])\n",
    "        rightFile = raw_input('Is this example good? (y/n/anything else to exit) ')\n",
    "\n",
    "        if rightFile == 'y':\n",
    "\n",
    "            print '\\nExample works, indicate where subject number is in filename.'\n",
    "            exitSubjNumSelect = False\n",
    "\n",
    "        elif rightFile == 'n':\n",
    "\n",
    "            print '\\nExample does not work, showing next one.'\n",
    "            exitSubjNumSelect = True\n",
    "\n",
    "        else:\n",
    "\n",
    "            exitSubjNumSelect = True\n",
    "            exitLoop = True\n",
    "\n",
    "        while not exitSubjNumSelect:\n",
    "\n",
    "            numInd = input('Index of beginning of subject number: ')\n",
    "            endStr = raw_input('String following subject number: ')\n",
    "\n",
    "            endInd = onlyFiles[i].find(endStr)\n",
    "            \n",
    "            if endInd <= numInd:\n",
    "\n",
    "                print 'Error, second index must be larger than first. Try again.\\n'\n",
    "\n",
    "            else:\n",
    "            \n",
    "                print('Here is what you selected: ' + onlyFiles[i][numInd:endInd])\n",
    "                subjNumCorrect = raw_input('Is this correct? (y/n/anything else to exit): ')\n",
    "\n",
    "                if subjNumCorrect == 'y':\n",
    "\n",
    "                    exitSubjNumSelect = True\n",
    "                    exitLoop = True\n",
    "\n",
    "                elif subjNumCorrect == 'n':\n",
    "\n",
    "                    print 'Try again\\n'\n",
    "\n",
    "                else:\n",
    "\n",
    "                    exitSubjNumSelect = True\n",
    "                    exitLoop = True\n",
    "                    \n",
    "    if exitLoop:\n",
    "\n",
    "        exitLoop = False\n",
    "        break #exit for loop"
   ]
  },
  {
   "cell_type": "code",
   "execution_count": 20,
   "metadata": {},
   "outputs": [
    {
     "name": "stdout",
     "output_type": "stream",
     "text": [
      "What is the length to which you want to pad subject numbers? 2\n",
      "Detected subject number longer than target length.\n",
      "Detected subject number: 43c_func_seed_T\n",
      "Left unchanged.\n"
     ]
    }
   ],
   "source": [
    "# onlyFiles = [f for f in listdir(fldrPath) if isfile(join(fldrPath, f))]\n",
    "# numFiles = len(onlyFiles)\n",
    "# endStr = '_struc'\n",
    "# numInd = 10\n",
    "\n",
    "\n",
    "subjNumLen = input('What is the length to which you want to pad subject numbers? ')\n",
    "\n",
    "for oldFileName in onlyFiles:\n",
    "    \n",
    "    endInd = oldFileName.find(endStr)\n",
    "    oldSubjNum = oldFileName[numInd:endInd]\n",
    "    \n",
    "#     print('Old subject number: ' + subjNum)\n",
    "    \n",
    "    if len(oldSubjNum) < subjNumLen:\n",
    "        \n",
    "        newSubjNum = oldSubjNum.zfill(subjNumLen)\n",
    "        \n",
    "    elif len(oldSubjNum) > subjNumLen:\n",
    "    \n",
    "        print 'Detected subject number longer than target length.'\n",
    "        print('Detected subject number: ' + oldSubjNum)\n",
    "        print 'Left unchanged.'\n",
    "        \n",
    "        newSubjNum = oldSubjNum\n",
    "    \n",
    "    else:\n",
    "        \n",
    "        newSubjNum = oldSubjNum\n",
    "    \n",
    "#     print newSubjNum\n",
    "    \n",
    "    newFileName = oldFileName[0:numInd] + newSubjNum + oldFileName[endInd:len(oldFileName)]\n",
    "    \n",
    "#     print('old file name: ' + oldFileName)\n",
    "#     print('new file name: ' + newFileName)\n",
    "    \n",
    "    oldFilePath = fldrPath + '/' + oldFileName\n",
    "    newFilePath = fldrPath + '/' + newFileName\n",
    "    \n",
    "    os.rename(oldFilePath,newFilePath)"
   ]
  }
 ],
 "metadata": {
  "kernelspec": {
   "display_name": "Python 2",
   "language": "python",
   "name": "python2"
  },
  "language_info": {
   "codemirror_mode": {
    "name": "ipython",
    "version": 2
   },
   "file_extension": ".py",
   "mimetype": "text/x-python",
   "name": "python",
   "nbconvert_exporter": "python",
   "pygments_lexer": "ipython2",
   "version": "2.7.13"
  }
 },
 "nbformat": 4,
 "nbformat_minor": 2
}
